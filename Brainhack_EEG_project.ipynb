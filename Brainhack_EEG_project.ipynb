{
 "cells": [
  {
   "cell_type": "code",
   "execution_count": 25,
   "id": "ded6b8c5-2ede-41ad-beb6-281e97bd9ad7",
   "metadata": {},
   "outputs": [
    {
     "name": "stdout",
     "output_type": "stream",
     "text": [
      "Requirement already satisfied: nilearn in /Users/hannyle/miniconda3/lib/python3.12/site-packages (0.10.4)\n",
      "Requirement already satisfied: numpy in /Users/hannyle/miniconda3/lib/python3.12/site-packages (1.26.4)\n",
      "Requirement already satisfied: pandas in /Users/hannyle/miniconda3/lib/python3.12/site-packages (2.2.1)\n",
      "Requirement already satisfied: scipy in /Users/hannyle/miniconda3/lib/python3.12/site-packages (1.13.0)\n",
      "Requirement already satisfied: seaborn in /Users/hannyle/miniconda3/lib/python3.12/site-packages (0.12.2)\n",
      "Requirement already satisfied: nibabel in /Users/hannyle/miniconda3/lib/python3.12/site-packages (5.2.1)\n",
      "Requirement already satisfied: scikit-learn in /Users/hannyle/miniconda3/lib/python3.12/site-packages (1.4.2)\n",
      "Requirement already satisfied: joblib>=1.0.0 in /Users/hannyle/miniconda3/lib/python3.12/site-packages (from nilearn) (1.4.0)\n",
      "Requirement already satisfied: lxml in /Users/hannyle/miniconda3/lib/python3.12/site-packages (from nilearn) (5.2.1)\n",
      "Requirement already satisfied: packaging in /Users/hannyle/miniconda3/lib/python3.12/site-packages (from nilearn) (23.2)\n",
      "Requirement already satisfied: requests>=2.25.0 in /Users/hannyle/miniconda3/lib/python3.12/site-packages (from nilearn) (2.32.3)\n",
      "Requirement already satisfied: python-dateutil>=2.8.2 in /Users/hannyle/miniconda3/lib/python3.12/site-packages (from pandas) (2.8.2)\n",
      "Requirement already satisfied: pytz>=2020.1 in /Users/hannyle/miniconda3/lib/python3.12/site-packages (from pandas) (2024.1)\n",
      "Requirement already satisfied: tzdata>=2022.7 in /Users/hannyle/miniconda3/lib/python3.12/site-packages (from pandas) (2023.3)\n",
      "Requirement already satisfied: matplotlib!=3.6.1,>=3.1 in /Users/hannyle/miniconda3/lib/python3.12/site-packages (from seaborn) (3.8.4)\n",
      "Requirement already satisfied: threadpoolctl>=2.0.0 in /Users/hannyle/miniconda3/lib/python3.12/site-packages (from scikit-learn) (2.2.0)\n",
      "Requirement already satisfied: contourpy>=1.0.1 in /Users/hannyle/miniconda3/lib/python3.12/site-packages (from matplotlib!=3.6.1,>=3.1->seaborn) (1.2.0)\n",
      "Requirement already satisfied: cycler>=0.10 in /Users/hannyle/miniconda3/lib/python3.12/site-packages (from matplotlib!=3.6.1,>=3.1->seaborn) (0.11.0)\n",
      "Requirement already satisfied: fonttools>=4.22.0 in /Users/hannyle/miniconda3/lib/python3.12/site-packages (from matplotlib!=3.6.1,>=3.1->seaborn) (4.51.0)\n",
      "Requirement already satisfied: kiwisolver>=1.3.1 in /Users/hannyle/miniconda3/lib/python3.12/site-packages (from matplotlib!=3.6.1,>=3.1->seaborn) (1.4.4)\n",
      "Requirement already satisfied: pillow>=8 in /Users/hannyle/miniconda3/lib/python3.12/site-packages (from matplotlib!=3.6.1,>=3.1->seaborn) (10.3.0)\n",
      "Requirement already satisfied: pyparsing>=2.3.1 in /Users/hannyle/miniconda3/lib/python3.12/site-packages (from matplotlib!=3.6.1,>=3.1->seaborn) (3.0.9)\n",
      "Requirement already satisfied: six>=1.5 in /Users/hannyle/miniconda3/lib/python3.12/site-packages (from python-dateutil>=2.8.2->pandas) (1.16.0)\n",
      "Requirement already satisfied: charset-normalizer<4,>=2 in /Users/hannyle/miniconda3/lib/python3.12/site-packages (from requests>=2.25.0->nilearn) (2.0.4)\n",
      "Requirement already satisfied: idna<4,>=2.5 in /Users/hannyle/miniconda3/lib/python3.12/site-packages (from requests>=2.25.0->nilearn) (3.7)\n",
      "Requirement already satisfied: urllib3<3,>=1.21.1 in /Users/hannyle/miniconda3/lib/python3.12/site-packages (from requests>=2.25.0->nilearn) (2.1.0)\n",
      "Requirement already satisfied: certifi>=2017.4.17 in /Users/hannyle/miniconda3/lib/python3.12/site-packages (from requests>=2.25.0->nilearn) (2024.2.2)\n"
     ]
    }
   ],
   "source": [
    "# all the required packages to run EEG pre-processing\n",
    "!pip install nilearn numpy pandas scipy seaborn nibabel scikit-learn\n",
    "\n",
    "import matplotlib\n",
    "import matplotlib.pyplot as plt\n",
    "import pathlib\n",
    "import mne\n",
    "import mne_bids\n",
    "import os\n",
    "import glob"
   ]
  },
  {
   "cell_type": "markdown",
   "id": "80a5eea0-da74-4942-8bab-1e45691f7d7b",
   "metadata": {},
   "source": [
    "Ensure Matplotlib uses the `Qt5Agg` backend, which is the best choice for MNE-Python's interactive plotting functions. "
   ]
  },
  {
   "cell_type": "code",
   "execution_count": 5,
   "id": "aa4bacb3-47e9-44cf-956e-24803c2d4259",
   "metadata": {},
   "outputs": [],
   "source": [
    "matplotlib.use('Qt5Agg')"
   ]
  },
  {
   "cell_type": "markdown",
   "id": "be638a63-857e-4053-bafd-d2edd571ad1c",
   "metadata": {},
   "source": [
    "1. DATA EXPLORATION\n",
    "\n",
    "1.1. Loading the dataset\n",
    "\n",
    "The dataset has been downloaded in the folder 'EEG Data'\n",
    "\n",
    "1.2. Reading the raw data"
   ]
  },
  {
   "cell_type": "code",
   "execution_count": 26,
   "id": "e0754c76-e580-4bfe-8b7c-d5ff87b2a97b",
   "metadata": {},
   "outputs": [
    {
     "data": {
      "text/plain": [
       "'/Users/hannyle/Documents/GitHub/Le_project/Brainhack_EEG-group/EEG_Data'"
      ]
     },
     "execution_count": 26,
     "metadata": {},
     "output_type": "execute_result"
    }
   ],
   "source": [
    "%pwd"
   ]
  },
  {
   "cell_type": "code",
   "execution_count": 21,
   "id": "5b45048c-1f40-489c-8f08-86f3aa0b6370",
   "metadata": {},
   "outputs": [
    {
     "ename": "FileNotFoundError",
     "evalue": "input_fname does not exist: \"/Users/hannyle/Documents/GitHub/Le_project/Brainhack_EEG-group/EEG Data/sub-001_task-Rest_run-01_eeg.fdt\"",
     "output_type": "error",
     "traceback": [
      "\u001b[0;31m---------------------------------------------------------------------------\u001b[0m",
      "\u001b[0;31mFileNotFoundError\u001b[0m                         Traceback (most recent call last)",
      "Cell \u001b[0;32mIn[21], line 2\u001b[0m\n\u001b[1;32m      1\u001b[0m raw_path_eeglab \u001b[38;5;241m=\u001b[39m \u001b[38;5;124m'\u001b[39m\u001b[38;5;124msub-001_task-Rest_run-01_eeg.fdt\u001b[39m\u001b[38;5;124m'\u001b[39m\n\u001b[0;32m----> 2\u001b[0m raw_eeglab \u001b[38;5;241m=\u001b[39m mne\u001b[38;5;241m.\u001b[39mio\u001b[38;5;241m.\u001b[39mread_raw_eeglab(\u001b[38;5;124m'\u001b[39m\u001b[38;5;124msub-001_task-Rest_run-01_eeg.fdt\u001b[39m\u001b[38;5;124m'\u001b[39m)\n\u001b[1;32m      3\u001b[0m raw_eeglab\u001b[38;5;241m.\u001b[39mload_data()\n",
      "File \u001b[0;32m~/miniconda3/lib/python3.12/site-packages/mne/io/eeglab/eeglab.py:330\u001b[0m, in \u001b[0;36mread_raw_eeglab\u001b[0;34m(input_fname, eog, preload, uint16_codec, montage_units, verbose)\u001b[0m\n\u001b[1;32m    286\u001b[0m \u001b[38;5;129m@fill_doc\u001b[39m\n\u001b[1;32m    287\u001b[0m \u001b[38;5;28;01mdef\u001b[39;00m \u001b[38;5;21mread_raw_eeglab\u001b[39m(\n\u001b[1;32m    288\u001b[0m     input_fname,\n\u001b[0;32m   (...)\u001b[0m\n\u001b[1;32m    293\u001b[0m     verbose\u001b[38;5;241m=\u001b[39m\u001b[38;5;28;01mNone\u001b[39;00m,\n\u001b[1;32m    294\u001b[0m ) \u001b[38;5;241m-\u001b[39m\u001b[38;5;241m>\u001b[39m \u001b[38;5;124m\"\u001b[39m\u001b[38;5;124mRawEEGLAB\u001b[39m\u001b[38;5;124m\"\u001b[39m:\n\u001b[1;32m    295\u001b[0m \u001b[38;5;250m    \u001b[39m\u001b[38;5;124mr\u001b[39m\u001b[38;5;124;03m\"\"\"Read an EEGLAB .set file.\u001b[39;00m\n\u001b[1;32m    296\u001b[0m \n\u001b[1;32m    297\u001b[0m \u001b[38;5;124;03m    Parameters\u001b[39;00m\n\u001b[0;32m   (...)\u001b[0m\n\u001b[1;32m    328\u001b[0m \u001b[38;5;124;03m    .. versionadded:: 0.11.0\u001b[39;00m\n\u001b[1;32m    329\u001b[0m \u001b[38;5;124;03m    \"\"\"\u001b[39;00m\n\u001b[0;32m--> 330\u001b[0m     \u001b[38;5;28;01mreturn\u001b[39;00m RawEEGLAB(\n\u001b[1;32m    331\u001b[0m         input_fname\u001b[38;5;241m=\u001b[39minput_fname,\n\u001b[1;32m    332\u001b[0m         preload\u001b[38;5;241m=\u001b[39mpreload,\n\u001b[1;32m    333\u001b[0m         eog\u001b[38;5;241m=\u001b[39meog,\n\u001b[1;32m    334\u001b[0m         uint16_codec\u001b[38;5;241m=\u001b[39muint16_codec,\n\u001b[1;32m    335\u001b[0m         montage_units\u001b[38;5;241m=\u001b[39mmontage_units,\n\u001b[1;32m    336\u001b[0m         verbose\u001b[38;5;241m=\u001b[39mverbose,\n\u001b[1;32m    337\u001b[0m     )\n",
      "File \u001b[0;32m<decorator-gen-274>:12\u001b[0m, in \u001b[0;36m__init__\u001b[0;34m(self, input_fname, eog, preload, uint16_codec, montage_units, verbose)\u001b[0m\n",
      "File \u001b[0;32m~/miniconda3/lib/python3.12/site-packages/mne/io/eeglab/eeglab.py:451\u001b[0m, in \u001b[0;36mRawEEGLAB.__init__\u001b[0;34m(self, input_fname, eog, preload, uint16_codec, montage_units, verbose)\u001b[0m\n\u001b[1;32m    440\u001b[0m \u001b[38;5;129m@verbose\u001b[39m\n\u001b[1;32m    441\u001b[0m \u001b[38;5;28;01mdef\u001b[39;00m \u001b[38;5;21m__init__\u001b[39m(\n\u001b[1;32m    442\u001b[0m     \u001b[38;5;28mself\u001b[39m,\n\u001b[0;32m   (...)\u001b[0m\n\u001b[1;32m    449\u001b[0m     verbose\u001b[38;5;241m=\u001b[39m\u001b[38;5;28;01mNone\u001b[39;00m,\n\u001b[1;32m    450\u001b[0m ):\n\u001b[0;32m--> 451\u001b[0m     input_fname \u001b[38;5;241m=\u001b[39m \u001b[38;5;28mstr\u001b[39m(_check_fname(input_fname, \u001b[38;5;124m\"\u001b[39m\u001b[38;5;124mread\u001b[39m\u001b[38;5;124m\"\u001b[39m, \u001b[38;5;28;01mTrue\u001b[39;00m, \u001b[38;5;124m\"\u001b[39m\u001b[38;5;124minput_fname\u001b[39m\u001b[38;5;124m\"\u001b[39m))\n\u001b[1;32m    452\u001b[0m     eeg \u001b[38;5;241m=\u001b[39m _check_load_mat(input_fname, uint16_codec)\n\u001b[1;32m    453\u001b[0m     \u001b[38;5;28;01mif\u001b[39;00m eeg\u001b[38;5;241m.\u001b[39mtrials \u001b[38;5;241m!=\u001b[39m \u001b[38;5;241m1\u001b[39m:\n",
      "File \u001b[0;32m<decorator-gen-0>:12\u001b[0m, in \u001b[0;36m_check_fname\u001b[0;34m(fname, overwrite, must_exist, name, need_dir, check_bids_split, verbose)\u001b[0m\n",
      "File \u001b[0;32m~/miniconda3/lib/python3.12/site-packages/mne/utils/check.py:280\u001b[0m, in \u001b[0;36m_check_fname\u001b[0;34m(fname, overwrite, must_exist, name, need_dir, check_bids_split, verbose)\u001b[0m\n\u001b[1;32m    278\u001b[0m             \u001b[38;5;28;01mraise\u001b[39;00m \u001b[38;5;167;01mPermissionError\u001b[39;00m(\u001b[38;5;124mf\u001b[39m\u001b[38;5;124m\"\u001b[39m\u001b[38;5;132;01m{\u001b[39;00mname\u001b[38;5;132;01m}\u001b[39;00m\u001b[38;5;124m does not have read permissions: \u001b[39m\u001b[38;5;132;01m{\u001b[39;00mfname\u001b[38;5;132;01m}\u001b[39;00m\u001b[38;5;124m\"\u001b[39m)\n\u001b[1;32m    279\u001b[0m \u001b[38;5;28;01melif\u001b[39;00m must_exist:\n\u001b[0;32m--> 280\u001b[0m     \u001b[38;5;28;01mraise\u001b[39;00m \u001b[38;5;167;01mFileNotFoundError\u001b[39;00m(\u001b[38;5;124mf\u001b[39m\u001b[38;5;124m'\u001b[39m\u001b[38;5;132;01m{\u001b[39;00mname\u001b[38;5;132;01m}\u001b[39;00m\u001b[38;5;124m does not exist: \u001b[39m\u001b[38;5;124m\"\u001b[39m\u001b[38;5;132;01m{\u001b[39;00mfname\u001b[38;5;132;01m}\u001b[39;00m\u001b[38;5;124m\"\u001b[39m\u001b[38;5;124m'\u001b[39m)\n\u001b[1;32m    282\u001b[0m \u001b[38;5;28;01mreturn\u001b[39;00m fname\n",
      "\u001b[0;31mFileNotFoundError\u001b[0m: input_fname does not exist: \"/Users/hannyle/Documents/GitHub/Le_project/Brainhack_EEG-group/EEG Data/sub-001_task-Rest_run-01_eeg.fdt\""
     ]
    }
   ],
   "source": [
    "# Navigate to the parent directory where all folders are located\n",
    "os.chdir('EEG_Data')\n",
    "\n",
    "# Define the pattern for file search (e.g., '*.txt' for text files)\n",
    "file_pattern = 'sub'\n",
    "\n",
    "# Iterate over folders\n",
    "for folder_name in os.listdir('.'):\n",
    "    # Check if the item is a directory\n",
    "    if os.path.isdir(folder_name):\n",
    "        # Navigate to the current folder\n",
    "        os.chdir(folder_name)\n",
    "        \n",
    "        # Search for files matching the pattern\n",
    "        matching_files = glob.glob(file_pattern)\n",
    "        \n",
    "        # Process matching files\n",
    "        for file_name in matching_files:\n",
    "            # Do something with the file\n",
    "            print(f\"Processing file {file_name} in folder {folder_name}\")\n",
    "        \n",
    "        # Navigate back to the parent directory\n",
    "        os.chdir('..')"
   ]
  },
  {
   "cell_type": "code",
   "execution_count": null,
   "id": "5bc28862-0528-41cf-8727-c7aea7a3ad2f",
   "metadata": {},
   "outputs": [],
   "source": []
  },
  {
   "cell_type": "code",
   "execution_count": null,
   "id": "880ad29f-f89f-4e99-b58c-33061cbffcc8",
   "metadata": {},
   "outputs": [],
   "source": []
  }
 ],
 "metadata": {
  "kernelspec": {
   "display_name": "Python 3 (ipykernel)",
   "language": "python",
   "name": "python3"
  },
  "language_info": {
   "codemirror_mode": {
    "name": "ipython",
    "version": 3
   },
   "file_extension": ".py",
   "mimetype": "text/x-python",
   "name": "python",
   "nbconvert_exporter": "python",
   "pygments_lexer": "ipython3",
   "version": "3.12.3"
  }
 },
 "nbformat": 4,
 "nbformat_minor": 5
}
