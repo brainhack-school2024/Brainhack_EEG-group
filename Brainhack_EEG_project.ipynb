{
 "cells": [
  {
   "cell_type": "code",
   "execution_count": 1,
   "id": "ded6b8c5-2ede-41ad-beb6-281e97bd9ad7",
   "metadata": {},
   "outputs": [],
   "source": [
    "# all the required packages to run EEG pre-processing\n",
    "import matplotlib\n",
    "import matplotlib.pyplot as plt\n",
    "import pathlib\n",
    "import mne\n",
    "import mne_bids"
   ]
  },
  {
   "cell_type": "markdown",
   "id": "80a5eea0-da74-4942-8bab-1e45691f7d7b",
   "metadata": {},
   "source": [
    "Ensure Matplotlib uses the `Qt5Agg` backend, which is the best choice for MNE-Python's interactive plotting functions. "
   ]
  },
  {
   "cell_type": "code",
   "execution_count": 3,
   "id": "aa4bacb3-47e9-44cf-956e-24803c2d4259",
   "metadata": {},
   "outputs": [],
   "source": [
    "matplotlib.use('Qt5Agg')"
   ]
  },
  {
   "cell_type": "code",
   "execution_count": null,
   "id": "a19fe362-be4d-4c27-8f88-ce469cd89a96",
   "metadata": {},
   "outputs": [],
   "source": []
  }
 ],
 "metadata": {
  "kernelspec": {
   "display_name": "Python 3 (ipykernel)",
   "language": "python",
   "name": "python3"
  },
  "language_info": {
   "codemirror_mode": {
    "name": "ipython",
    "version": 3
   },
   "file_extension": ".py",
   "mimetype": "text/x-python",
   "name": "python",
   "nbconvert_exporter": "python",
   "pygments_lexer": "ipython3",
   "version": "3.12.3"
  }
 },
 "nbformat": 4,
 "nbformat_minor": 5
}
