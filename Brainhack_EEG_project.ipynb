{
 "cells": [
  {
   "cell_type": "code",
   "execution_count": null,
   "id": "ded6b8c5-2ede-41ad-beb6-281e97bd9ad7",
   "metadata": {},
   "outputs": [],
   "source": [
    "# all the required packages to run EEG pre-processing\n",
    "!pip install nilearn numpy pandas scipy seaborn nibabel scikit-learn\n",
    "\n",
    "import matplotlib\n",
    "import matplotlib.pyplot as plt\n",
    "import pathlib\n",
    "import mne\n",
    "import mne_bids"
   ]
  },
  {
   "cell_type": "markdown",
   "id": "80a5eea0-da74-4942-8bab-1e45691f7d7b",
   "metadata": {},
   "source": [
    "Ensure Matplotlib uses the `Qt5Agg` backend, which is the best choice for MNE-Python's interactive plotting functions. "
   ]
  },
  {
   "cell_type": "code",
   "execution_count": 15,
   "id": "aa4bacb3-47e9-44cf-956e-24803c2d4259",
   "metadata": {},
   "outputs": [],
   "source": [
    "matplotlib.use('Qt5Agg')"
   ]
  },
  {
   "cell_type": "markdown",
   "id": "be638a63-857e-4053-bafd-d2edd571ad1c",
   "metadata": {},
   "source": [
    "1. DATA EXPLORATION\n",
    "\n",
    "1.1. Loading the dataset\n",
    "\n",
    "The dataset has been downloaded in the folder 'EEG Data'\n",
    "\n",
    "1.2. Reading the raw data"
   ]
  },
  {
   "cell_type": "code",
   "execution_count": 17,
   "id": "5b45048c-1f40-489c-8f08-86f3aa0b6370",
   "metadata": {},
   "outputs": [
    {
     "ename": "RuntimeError",
     "evalue": "For FieldTrip I/O to work, the pymatreader module is needed, but it could not be imported.\n              use the following installation method appropriate for your environment:\n              'pip install pymatreader'\n              'conda install -c conda-forge pymatreader'",
     "output_type": "error",
     "traceback": [
      "\u001b[0;31m---------------------------------------------------------------------------\u001b[0m",
      "\u001b[0;31mModuleNotFoundError\u001b[0m                       Traceback (most recent call last)",
      "File \u001b[0;32m~/miniconda3/lib/python3.12/site-packages/mne/utils/check.py:399\u001b[0m, in \u001b[0;36m_soft_import\u001b[0;34m(name, purpose, strict)\u001b[0m\n\u001b[1;32m    398\u001b[0m \u001b[38;5;28;01mtry\u001b[39;00m:\n\u001b[0;32m--> 399\u001b[0m     mod \u001b[38;5;241m=\u001b[39m import_module(name)\n\u001b[1;32m    400\u001b[0m     \u001b[38;5;28;01mreturn\u001b[39;00m mod\n",
      "File \u001b[0;32m~/miniconda3/lib/python3.12/importlib/__init__.py:90\u001b[0m, in \u001b[0;36mimport_module\u001b[0;34m(name, package)\u001b[0m\n\u001b[1;32m     89\u001b[0m         level \u001b[38;5;241m+\u001b[39m\u001b[38;5;241m=\u001b[39m \u001b[38;5;241m1\u001b[39m\n\u001b[0;32m---> 90\u001b[0m \u001b[38;5;28;01mreturn\u001b[39;00m _bootstrap\u001b[38;5;241m.\u001b[39m_gcd_import(name[level:], package, level)\n",
      "File \u001b[0;32m<frozen importlib._bootstrap>:1387\u001b[0m, in \u001b[0;36m_gcd_import\u001b[0;34m(name, package, level)\u001b[0m\n",
      "File \u001b[0;32m<frozen importlib._bootstrap>:1360\u001b[0m, in \u001b[0;36m_find_and_load\u001b[0;34m(name, import_)\u001b[0m\n",
      "File \u001b[0;32m<frozen importlib._bootstrap>:1324\u001b[0m, in \u001b[0;36m_find_and_load_unlocked\u001b[0;34m(name, import_)\u001b[0m\n",
      "\u001b[0;31mModuleNotFoundError\u001b[0m: No module named 'pymatreader'",
      "\nDuring handling of the above exception, another exception occurred:\n",
      "\u001b[0;31mRuntimeError\u001b[0m                              Traceback (most recent call last)",
      "Cell \u001b[0;32mIn[17], line 2\u001b[0m\n\u001b[1;32m      1\u001b[0m raw_path_fdt \u001b[38;5;241m=\u001b[39m \u001b[38;5;124m'\u001b[39m\u001b[38;5;124msub-001_task-Rest_run-01_eeg.fdt\u001b[39m\u001b[38;5;124m'\u001b[39m\n\u001b[0;32m----> 2\u001b[0m raw_fdt \u001b[38;5;241m=\u001b[39m mne\u001b[38;5;241m.\u001b[39mio\u001b[38;5;241m.\u001b[39mread_raw_fieldtrip(raw_path_fdt, info \u001b[38;5;241m=\u001b[39m \u001b[38;5;28;01mNone\u001b[39;00m)\n\u001b[1;32m      3\u001b[0m raw_fdt\u001b[38;5;241m.\u001b[39mload_data()\n",
      "File \u001b[0;32m~/miniconda3/lib/python3.12/site-packages/mne/io/fieldtrip/fieldtrip.py:58\u001b[0m, in \u001b[0;36mread_raw_fieldtrip\u001b[0;34m(fname, info, data_name)\u001b[0m\n\u001b[1;32m     23\u001b[0m \u001b[38;5;28;01mdef\u001b[39;00m \u001b[38;5;21mread_raw_fieldtrip\u001b[39m(fname, info, data_name\u001b[38;5;241m=\u001b[39m\u001b[38;5;124m\"\u001b[39m\u001b[38;5;124mdata\u001b[39m\u001b[38;5;124m\"\u001b[39m) \u001b[38;5;241m-\u001b[39m\u001b[38;5;241m>\u001b[39m RawArray:\n\u001b[1;32m     24\u001b[0m \u001b[38;5;250m    \u001b[39m\u001b[38;5;124;03m\"\"\"Load continuous (raw) data from a FieldTrip preprocessing structure.\u001b[39;00m\n\u001b[1;32m     25\u001b[0m \n\u001b[1;32m     26\u001b[0m \u001b[38;5;124;03m    This function expects to find single trial raw data (FT_DATATYPE_RAW) in\u001b[39;00m\n\u001b[0;32m   (...)\u001b[0m\n\u001b[1;32m     56\u001b[0m \u001b[38;5;124;03m    mne.io.Raw : Documentation of attributes and methods of RawArray.\u001b[39;00m\n\u001b[1;32m     57\u001b[0m \u001b[38;5;124;03m    \"\"\"\u001b[39;00m\n\u001b[0;32m---> 58\u001b[0m     read_mat \u001b[38;5;241m=\u001b[39m _import_pymatreader_funcs(\u001b[38;5;124m\"\u001b[39m\u001b[38;5;124mFieldTrip I/O\u001b[39m\u001b[38;5;124m\"\u001b[39m)\n\u001b[1;32m     59\u001b[0m     fname \u001b[38;5;241m=\u001b[39m _check_fname(fname, overwrite\u001b[38;5;241m=\u001b[39m\u001b[38;5;124m\"\u001b[39m\u001b[38;5;124mread\u001b[39m\u001b[38;5;124m\"\u001b[39m, must_exist\u001b[38;5;241m=\u001b[39m\u001b[38;5;28;01mTrue\u001b[39;00m)\n\u001b[1;32m     61\u001b[0m     ft_struct \u001b[38;5;241m=\u001b[39m read_mat(fname, ignore_fields\u001b[38;5;241m=\u001b[39m[\u001b[38;5;124m\"\u001b[39m\u001b[38;5;124mprevious\u001b[39m\u001b[38;5;124m\"\u001b[39m], variable_names\u001b[38;5;241m=\u001b[39m[data_name])\n",
      "File \u001b[0;32m~/miniconda3/lib/python3.12/site-packages/mne/utils/check.py:174\u001b[0m, in \u001b[0;36m_import_pymatreader_funcs\u001b[0;34m(purpose)\u001b[0m\n\u001b[1;32m    173\u001b[0m \u001b[38;5;28;01mdef\u001b[39;00m \u001b[38;5;21m_import_pymatreader_funcs\u001b[39m(purpose):\n\u001b[0;32m--> 174\u001b[0m     pymatreader \u001b[38;5;241m=\u001b[39m _soft_import(\u001b[38;5;124m\"\u001b[39m\u001b[38;5;124mpymatreader\u001b[39m\u001b[38;5;124m\"\u001b[39m, purpose)\n\u001b[1;32m    175\u001b[0m     \u001b[38;5;28;01mreturn\u001b[39;00m pymatreader\u001b[38;5;241m.\u001b[39mread_mat\n",
      "File \u001b[0;32m~/miniconda3/lib/python3.12/site-packages/mne/utils/check.py:403\u001b[0m, in \u001b[0;36m_soft_import\u001b[0;34m(name, purpose, strict)\u001b[0m\n\u001b[1;32m    401\u001b[0m \u001b[38;5;28;01mexcept\u001b[39;00m (\u001b[38;5;167;01mImportError\u001b[39;00m, \u001b[38;5;167;01mModuleNotFoundError\u001b[39;00m):\n\u001b[1;32m    402\u001b[0m     \u001b[38;5;28;01mif\u001b[39;00m strict:\n\u001b[0;32m--> 403\u001b[0m         \u001b[38;5;28;01mraise\u001b[39;00m \u001b[38;5;167;01mRuntimeError\u001b[39;00m(\n\u001b[1;32m    404\u001b[0m             \u001b[38;5;124mf\u001b[39m\u001b[38;5;124m\"\u001b[39m\u001b[38;5;124mFor \u001b[39m\u001b[38;5;132;01m{\u001b[39;00mpurpose\u001b[38;5;132;01m}\u001b[39;00m\u001b[38;5;124m to work, the \u001b[39m\u001b[38;5;132;01m{\u001b[39;00mname\u001b[38;5;132;01m}\u001b[39;00m\u001b[38;5;124m module is needed, \u001b[39m\u001b[38;5;124m\"\u001b[39m\n\u001b[1;32m    405\u001b[0m             \u001b[38;5;241m+\u001b[39m \u001b[38;5;124m\"\u001b[39m\u001b[38;5;124mbut it could not be imported.\u001b[39m\u001b[38;5;130;01m\\n\u001b[39;00m\u001b[38;5;124m\"\u001b[39m\n\u001b[1;32m    406\u001b[0m             \u001b[38;5;241m+\u001b[39m \u001b[38;5;124m\"\u001b[39m\u001b[38;5;130;01m\\n\u001b[39;00m\u001b[38;5;124m\"\u001b[39m\u001b[38;5;241m.\u001b[39mjoin(\n\u001b[1;32m    407\u001b[0m                 (\n\u001b[1;32m    408\u001b[0m                     indent(\n\u001b[1;32m    409\u001b[0m                         \u001b[38;5;124m\"\u001b[39m\u001b[38;5;124muse the following installation method \u001b[39m\u001b[38;5;124m\"\u001b[39m\n\u001b[1;32m    410\u001b[0m                         \u001b[38;5;124m\"\u001b[39m\u001b[38;5;124mappropriate for your environment:\u001b[39m\u001b[38;5;124m\"\u001b[39m\n\u001b[1;32m    411\u001b[0m                     ),\n\u001b[1;32m    412\u001b[0m                     indent(\u001b[38;5;124mf\u001b[39m\u001b[38;5;124m\"\u001b[39m\u001b[38;5;124m'\u001b[39m\u001b[38;5;124mpip install \u001b[39m\u001b[38;5;132;01m{\u001b[39;00mpip_name\u001b[38;5;132;01m}\u001b[39;00m\u001b[38;5;124m'\u001b[39m\u001b[38;5;124m\"\u001b[39m),\n\u001b[1;32m    413\u001b[0m                     indent(\u001b[38;5;124mf\u001b[39m\u001b[38;5;124m\"\u001b[39m\u001b[38;5;124m'\u001b[39m\u001b[38;5;124mconda install -c conda-forge \u001b[39m\u001b[38;5;132;01m{\u001b[39;00mpip_name\u001b[38;5;132;01m}\u001b[39;00m\u001b[38;5;124m'\u001b[39m\u001b[38;5;124m\"\u001b[39m),\n\u001b[1;32m    414\u001b[0m                 )\n\u001b[1;32m    415\u001b[0m             )\n\u001b[1;32m    416\u001b[0m         )\n\u001b[1;32m    417\u001b[0m     \u001b[38;5;28;01melse\u001b[39;00m:\n\u001b[1;32m    418\u001b[0m         \u001b[38;5;28;01mreturn\u001b[39;00m \u001b[38;5;28;01mFalse\u001b[39;00m\n",
      "\u001b[0;31mRuntimeError\u001b[0m: For FieldTrip I/O to work, the pymatreader module is needed, but it could not be imported.\n              use the following installation method appropriate for your environment:\n              'pip install pymatreader'\n              'conda install -c conda-forge pymatreader'"
     ]
    }
   ],
   "source": [
    "raw_path_fdt = 'sub-001_task-Rest_run-01_eeg.fdt'\n",
    "raw_fdt = mne.io.read_raw_fieldtrip(raw_path_fdt, info = None)\n",
    "raw_fdt.load_data()"
   ]
  },
  {
   "cell_type": "code",
   "execution_count": null,
   "id": "5bc28862-0528-41cf-8727-c7aea7a3ad2f",
   "metadata": {},
   "outputs": [],
   "source": []
  },
  {
   "cell_type": "code",
   "execution_count": null,
   "id": "880ad29f-f89f-4e99-b58c-33061cbffcc8",
   "metadata": {},
   "outputs": [],
   "source": []
  }
 ],
 "metadata": {
  "kernelspec": {
   "display_name": "Python 3 (ipykernel)",
   "language": "python",
   "name": "python3"
  },
  "language_info": {
   "codemirror_mode": {
    "name": "ipython",
    "version": 3
   },
   "file_extension": ".py",
   "mimetype": "text/x-python",
   "name": "python",
   "nbconvert_exporter": "python",
   "pygments_lexer": "ipython3",
   "version": "3.12.3"
  }
 },
 "nbformat": 4,
 "nbformat_minor": 5
}
