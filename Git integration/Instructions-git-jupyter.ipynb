{
 "cells": [
  {
   "cell_type": "code",
   "execution_count": null,
   "id": "b19a4671-ea41-484d-8369-0dd98bd88359",
   "metadata": {},
   "outputs": [],
   "source": [
    "# Use personal access token from github to add git repository (project) into jupyter\n",
    "\n",
    "## personal access token instructions:\n",
    "## Open github in browser, sign in to account\n",
    "## click profile icon in the top right\n",
    "## click settings\n",
    "## in the left menu, click developer options (scroll all the way down)\n",
    "## Personal access tokens (left menu)\n",
    "## tokens (classic)\n",
    "## generate new token - should be prompted to enter password again\n",
    "## Note to self what the token is for; set expiration date; set access to repo; workflow (just add everything)\n",
    "## Generate token; copy token (paste into sticky note so you dont lose it)\n",
    "\n",
    "# Open terminal, open jupyter notebook, New --> terminal (this is your terminal in jupyter\n",
    "# check pwd (i suggest making a directory for the EEG project)\n",
    "# go to the directory where you want the Git repo to sync into and out of (example: cd EEG)\n",
    "# clone repository into your working directory of choice as follows\n",
    "\n",
    "#          git clone https://{your access token here!!}@github.com/brainhack-school2024/Brainhack_EEG-group\n",
    "\n",
    "# go to directory selected and make sure git repo has been cloned!\n"
   ]
  }
 ],
 "metadata": {
  "kernelspec": {
   "display_name": "Python 3 (ipykernel)",
   "language": "python",
   "name": "python3"
  },
  "language_info": {
   "codemirror_mode": {
    "name": "ipython",
    "version": 3
   },
   "file_extension": ".py",
   "mimetype": "text/x-python",
   "name": "python",
   "nbconvert_exporter": "python",
   "pygments_lexer": "ipython3",
   "version": "3.12.3"
  }
 },
 "nbformat": 4,
 "nbformat_minor": 5
}
